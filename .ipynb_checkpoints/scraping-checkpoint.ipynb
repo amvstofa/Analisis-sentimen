{
 "cells": [
  {
   "cell_type": "code",
   "execution_count": 8,
   "id": "1d0c9bf3",
   "metadata": {
    "vscode": {
     "languageId": "plaintext"
    }
   },
   "outputs": [],
   "source": [
    "from google_play_scraper import app, reviews, Sort, reviews_all\n",
    "import pandas as pd\n",
    "from tqdm import tqdm\n",
    "import time"
   ]
  },
  {
   "cell_type": "code",
   "execution_count": 10,
   "id": "a35ed709",
   "metadata": {
    "vscode": {
     "languageId": "plaintext"
    }
   },
   "outputs": [
    {
     "name": "stderr",
     "output_type": "stream",
     "text": [
      "Scraping Progress: 100%|████████████████████████████████████████████████████████████████████████████████████████████████| 200/200 [10:29<00:00,  3.15s/it]"
     ]
    },
    {
     "name": "stdout",
     "output_type": "stream",
     "text": [
      "\n",
      "✅ Scraping selesai! Telah berhasil mengambil 40.000 ulasan PUBG Mobile.\n"
     ]
    },
    {
     "name": "stderr",
     "output_type": "stream",
     "text": [
      "\n"
     ]
    }
   ],
   "source": [
    "# Parameter scraping\n",
    "app_id = 'com.tencent.ig'\n",
    "total_reviews = 40_000\n",
    "batch_size = 200\n",
    "all_reviews = []\n",
    "next_pagetoken = None\n",
    "\n",
    "# Hitung berapa banyak batch\n",
    "num_batches = total_reviews // batch_size\n",
    "\n",
    "# Loop scraping dengan progress bar\n",
    "for _ in tqdm(range(num_batches), desc=\"Scraping Progress\"):\n",
    "    reviews_batch, next_pagetoken = reviews(\n",
    "        app_id,\n",
    "        lang='id',\n",
    "        country='id',\n",
    "        sort=Sort.MOST_RELEVANT,\n",
    "        count=batch_size,\n",
    "        continuation_token=next_pagetoken\n",
    "    )\n",
    "\n",
    "    if not reviews_batch:\n",
    "        break\n",
    "\n",
    "    all_reviews.extend(reviews_batch)\n",
    "    time.sleep(1)\n",
    "\n",
    "# ✅ Print setelah loop selesai\n",
    "print(\"\\n✅ Scraping selesai! Telah berhasil mengambil 40.000 ulasan PUBG Mobile.\")"
   ]
  },
  {
   "cell_type": "code",
   "execution_count": 11,
   "id": "b10dee5b",
   "metadata": {
    "vscode": {
     "languageId": "plaintext"
    }
   },
   "outputs": [],
   "source": [
    "# Menyimpan ulasan dalam file CSV\n",
    "import csv\n",
    " \n",
    "with open('ulasan_pubg.csv', mode='w', newline='', encoding='utf-8') as file:\n",
    "    writer = csv.writer(file)\n",
    "    writer.writerow(['Review'])  # Menulis header kolom\n",
    "    for review in all_reviews:\n",
    "        writer.writerow([review['content']])  # Menulis konten ulasan ke dalam file CSV"
   ]
  },
  {
   "cell_type": "code",
   "execution_count": 12,
   "id": "b1cfa294",
   "metadata": {
    "vscode": {
     "languageId": "plaintext"
    }
   },
   "outputs": [
    {
     "name": "stdout",
     "output_type": "stream",
     "text": [
      "Jumlah baris dan kolom: (40000, 11)\n"
     ]
    }
   ],
   "source": [
    "df = pd.DataFrame(all_reviews)\n",
    "df.shape\n",
    "df.head()\n",
    "df.to_csv('ulasan_pubg.csv', index=False)\n",
    " \n",
    "# Membuat DataFrame dari hasil all_reviews\n",
    "df = pd.DataFrame(all_reviews)\n",
    " \n",
    "# Menghitung jumlah baris dan kolom dalam DataFrame\n",
    "print(f'Jumlah baris dan kolom: {df.shape}')"
   ]
  },
  {
   "cell_type": "code",
   "execution_count": 13,
   "id": "a02ffea2",
   "metadata": {
    "vscode": {
     "languageId": "plaintext"
    }
   },
   "outputs": [
    {
     "data": {
      "text/html": [
       "<div>\n",
       "<style scoped>\n",
       "    .dataframe tbody tr th:only-of-type {\n",
       "        vertical-align: middle;\n",
       "    }\n",
       "\n",
       "    .dataframe tbody tr th {\n",
       "        vertical-align: top;\n",
       "    }\n",
       "\n",
       "    .dataframe thead th {\n",
       "        text-align: right;\n",
       "    }\n",
       "</style>\n",
       "<table border=\"1\" class=\"dataframe\">\n",
       "  <thead>\n",
       "    <tr style=\"text-align: right;\">\n",
       "      <th></th>\n",
       "      <th>reviewId</th>\n",
       "      <th>userName</th>\n",
       "      <th>userImage</th>\n",
       "      <th>content</th>\n",
       "      <th>score</th>\n",
       "      <th>thumbsUpCount</th>\n",
       "      <th>reviewCreatedVersion</th>\n",
       "      <th>at</th>\n",
       "      <th>replyContent</th>\n",
       "      <th>repliedAt</th>\n",
       "      <th>appVersion</th>\n",
       "    </tr>\n",
       "  </thead>\n",
       "  <tbody>\n",
       "    <tr>\n",
       "      <th>0</th>\n",
       "      <td>99fb3b99-7abc-481d-af80-ed532b0bd911</td>\n",
       "      <td>Vince E. S</td>\n",
       "      <td>https://play-lh.googleusercontent.com/a-/ALV-U...</td>\n",
       "      <td>Bintang 3 karena: 1. Performa; Untuk hp kelas ...</td>\n",
       "      <td>3</td>\n",
       "      <td>10</td>\n",
       "      <td>3.7.0</td>\n",
       "      <td>2025-04-11 19:43:12</td>\n",
       "      <td>Halo pemain,\\nKami memahami perasaan Anda. Jik...</td>\n",
       "      <td>2025-04-11 21:13:34</td>\n",
       "      <td>3.7.0</td>\n",
       "    </tr>\n",
       "    <tr>\n",
       "      <th>1</th>\n",
       "      <td>b7f48138-da4d-4d03-9d3b-2edd04d1ecd4</td>\n",
       "      <td>Rufy Hermawan</td>\n",
       "      <td>https://play-lh.googleusercontent.com/a-/ALV-U...</td>\n",
       "      <td>Saya rasa PUBG dulu Lebih baik dari yang sekar...</td>\n",
       "      <td>5</td>\n",
       "      <td>591</td>\n",
       "      <td>3.7.0</td>\n",
       "      <td>2025-04-05 10:54:18</td>\n",
       "      <td>Hi pemain! Kami sepenuhnya memahami perasaan A...</td>\n",
       "      <td>2025-04-05 09:57:00</td>\n",
       "      <td>3.7.0</td>\n",
       "    </tr>\n",
       "    <tr>\n",
       "      <th>2</th>\n",
       "      <td>b29a7057-b121-4698-8606-e9da7b28f1d3</td>\n",
       "      <td>Anwar Sofyan</td>\n",
       "      <td>https://play-lh.googleusercontent.com/a/ACg8oc...</td>\n",
       "      <td>Ada beberapa yang perlu dikoreksi dari segi uk...</td>\n",
       "      <td>4</td>\n",
       "      <td>22</td>\n",
       "      <td>3.7.0</td>\n",
       "      <td>2025-04-05 17:46:21</td>\n",
       "      <td>None</td>\n",
       "      <td>NaT</td>\n",
       "      <td>3.7.0</td>\n",
       "    </tr>\n",
       "    <tr>\n",
       "      <th>3</th>\n",
       "      <td>b1cf49da-487d-4fa6-a3c3-c109eee9dae1</td>\n",
       "      <td>hanif diaerta</td>\n",
       "      <td>https://play-lh.googleusercontent.com/a-/ALV-U...</td>\n",
       "      <td>masih terdapat banyak bug dalam ingame diantar...</td>\n",
       "      <td>1</td>\n",
       "      <td>403</td>\n",
       "      <td>3.7.0</td>\n",
       "      <td>2025-04-05 18:53:28</td>\n",
       "      <td>Hai pemain! Kami telah memahami masalah yang A...</td>\n",
       "      <td>2025-04-07 14:44:13</td>\n",
       "      <td>3.7.0</td>\n",
       "    </tr>\n",
       "    <tr>\n",
       "      <th>4</th>\n",
       "      <td>0698bd84-3cae-470d-9703-86217024df7d</td>\n",
       "      <td>LuthXPubgm</td>\n",
       "      <td>https://play-lh.googleusercontent.com/a-/ALV-U...</td>\n",
       "      <td>Game nya sudah bagus cuman tolong perbaiki mas...</td>\n",
       "      <td>5</td>\n",
       "      <td>155</td>\n",
       "      <td>3.7.0</td>\n",
       "      <td>2025-04-09 08:06:53</td>\n",
       "      <td>None</td>\n",
       "      <td>NaT</td>\n",
       "      <td>3.7.0</td>\n",
       "    </tr>\n",
       "  </tbody>\n",
       "</table>\n",
       "</div>"
      ],
      "text/plain": [
       "                               reviewId       userName  \\\n",
       "0  99fb3b99-7abc-481d-af80-ed532b0bd911     Vince E. S   \n",
       "1  b7f48138-da4d-4d03-9d3b-2edd04d1ecd4  Rufy Hermawan   \n",
       "2  b29a7057-b121-4698-8606-e9da7b28f1d3   Anwar Sofyan   \n",
       "3  b1cf49da-487d-4fa6-a3c3-c109eee9dae1  hanif diaerta   \n",
       "4  0698bd84-3cae-470d-9703-86217024df7d     LuthXPubgm   \n",
       "\n",
       "                                           userImage  \\\n",
       "0  https://play-lh.googleusercontent.com/a-/ALV-U...   \n",
       "1  https://play-lh.googleusercontent.com/a-/ALV-U...   \n",
       "2  https://play-lh.googleusercontent.com/a/ACg8oc...   \n",
       "3  https://play-lh.googleusercontent.com/a-/ALV-U...   \n",
       "4  https://play-lh.googleusercontent.com/a-/ALV-U...   \n",
       "\n",
       "                                             content  score  thumbsUpCount  \\\n",
       "0  Bintang 3 karena: 1. Performa; Untuk hp kelas ...      3             10   \n",
       "1  Saya rasa PUBG dulu Lebih baik dari yang sekar...      5            591   \n",
       "2  Ada beberapa yang perlu dikoreksi dari segi uk...      4             22   \n",
       "3  masih terdapat banyak bug dalam ingame diantar...      1            403   \n",
       "4  Game nya sudah bagus cuman tolong perbaiki mas...      5            155   \n",
       "\n",
       "  reviewCreatedVersion                  at  \\\n",
       "0                3.7.0 2025-04-11 19:43:12   \n",
       "1                3.7.0 2025-04-05 10:54:18   \n",
       "2                3.7.0 2025-04-05 17:46:21   \n",
       "3                3.7.0 2025-04-05 18:53:28   \n",
       "4                3.7.0 2025-04-09 08:06:53   \n",
       "\n",
       "                                        replyContent           repliedAt  \\\n",
       "0  Halo pemain,\\nKami memahami perasaan Anda. Jik... 2025-04-11 21:13:34   \n",
       "1  Hi pemain! Kami sepenuhnya memahami perasaan A... 2025-04-05 09:57:00   \n",
       "2                                               None                 NaT   \n",
       "3  Hai pemain! Kami telah memahami masalah yang A... 2025-04-07 14:44:13   \n",
       "4                                               None                 NaT   \n",
       "\n",
       "  appVersion  \n",
       "0      3.7.0  \n",
       "1      3.7.0  \n",
       "2      3.7.0  \n",
       "3      3.7.0  \n",
       "4      3.7.0  "
      ]
     },
     "execution_count": 13,
     "metadata": {},
     "output_type": "execute_result"
    }
   ],
   "source": [
    "df.head()"
   ]
  }
 ],
 "metadata": {
  "kernelspec": {
   "display_name": "Python 3 (ipykernel)",
   "language": "python",
   "name": "python3"
  },
  "language_info": {
   "codemirror_mode": {
    "name": "ipython",
    "version": 3
   },
   "file_extension": ".py",
   "mimetype": "text/x-python",
   "name": "python",
   "nbconvert_exporter": "python",
   "pygments_lexer": "ipython3",
   "version": "3.12.6"
  }
 },
 "nbformat": 4,
 "nbformat_minor": 5
}
